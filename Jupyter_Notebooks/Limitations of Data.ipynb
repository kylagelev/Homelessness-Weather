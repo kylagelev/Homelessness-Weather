{
 "cells": [
  {
   "cell_type": "code",
   "execution_count": 1,
   "metadata": {},
   "outputs": [],
   "source": [
    "import pandas as pd\n",
    "import scipy.stats as sts\n",
    "import matplotlib.pyplot as plt\n",
    "import numpy as np\n",
    "%matplotlib notebook"
   ]
  },
  {
   "cell_type": "code",
   "execution_count": 2,
   "metadata": {},
   "outputs": [],
   "source": [
    "csv2014='2014_All_Temps.csv'\n",
    "csv2015='2015_All_Temps.csv'"
   ]
  },
  {
   "cell_type": "code",
   "execution_count": 3,
   "metadata": {},
   "outputs": [],
   "source": [
    "weather2014Df=pd.read_csv(csv2014)\n",
    "weather2015Df=pd.read_csv(csv2015)"
   ]
  },
  {
   "cell_type": "code",
   "execution_count": 9,
   "metadata": {},
   "outputs": [
    {
     "data": {
      "text/plain": [
       "County_Name\n",
       "Bernalillo_County       1204\n",
       "Clark_County             862\n",
       "Cook_County             2224\n",
       "Dallas_County           1059\n",
       "Davidson_County         1111\n",
       "Denver_County           1222\n",
       "Fulton_County            890\n",
       "Hennepin_County          980\n",
       "Jackson_County           900\n",
       "King_County             1183\n",
       "Los_Angeles_County       862\n",
       "Maricopa_County         2202\n",
       "Marion_County           1268\n",
       "Mecklenburg_County      1092\n",
       "Miami_Dade_County       1286\n",
       "New_York_County          896\n",
       "Philadelphia_County      964\n",
       "San_Francisco_County      31\n",
       "Suffolk_County          1251\n",
       "Wayne_County            1380\n",
       "Name: Hourly_Dry_Bulb_Temperature, dtype: int64"
      ]
     },
     "execution_count": 9,
     "metadata": {},
     "output_type": "execute_result"
    }
   ],
   "source": [
    "weather2014DfCounties=weather2014Df.groupby('County_Name')\n",
    "weather2014DfCounties['Hourly_Dry_Bulb_Temperature'].count()"
   ]
  },
  {
   "cell_type": "code",
   "execution_count": 10,
   "metadata": {},
   "outputs": [
    {
     "data": {
      "text/plain": [
       "County_Name\n",
       "Bernalillo_County       1234\n",
       "Clark_County            1055\n",
       "Cook_County             2228\n",
       "Dallas_County           1167\n",
       "Davidson_County         1187\n",
       "Denver_County           1184\n",
       "Fulton_County            976\n",
       "Hennepin_County          941\n",
       "Jackson_County           915\n",
       "King_County             1162\n",
       "Los_Angeles_County      1055\n",
       "Maricopa_County         2216\n",
       "Marion_County           1076\n",
       "Mecklenburg_County      1133\n",
       "Miami_Dade_County       1000\n",
       "New_York_County         1028\n",
       "Philadelphia_County     1047\n",
       "San_Francisco_County      31\n",
       "Suffolk_County          1199\n",
       "Wayne_County            1319\n",
       "Name: Hourly_Dry_Bulb_Temperature, dtype: int64"
      ]
     },
     "execution_count": 10,
     "metadata": {},
     "output_type": "execute_result"
    }
   ],
   "source": [
    "weather2015DfCounties=weather2015Df.groupby('County_Name')\n",
    "weather2015DfCounties['Hourly_Dry_Bulb_Temperature'].count()"
   ]
  },
  {
   "cell_type": "code",
   "execution_count": null,
   "metadata": {},
   "outputs": [],
   "source": []
  }
 ],
 "metadata": {
  "kernelspec": {
   "display_name": "Python 3",
   "language": "python",
   "name": "python3"
  },
  "language_info": {
   "codemirror_mode": {
    "name": "ipython",
    "version": 3
   },
   "file_extension": ".py",
   "mimetype": "text/x-python",
   "name": "python",
   "nbconvert_exporter": "python",
   "pygments_lexer": "ipython3",
   "version": "3.8.5"
  }
 },
 "nbformat": 4,
 "nbformat_minor": 4
}
