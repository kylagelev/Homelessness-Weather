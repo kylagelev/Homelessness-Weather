{
 "cells": [
  {
   "cell_type": "code",
   "execution_count": 97,
   "metadata": {},
   "outputs": [],
   "source": [
    "import matplotlib.pyplot as plt\n",
    "import pandas as pd\n",
    "import scipy.stats as st\n",
    "import numpy as np\n",
    "from scipy.stats import linregress"
   ]
  },
  {
   "cell_type": "code",
   "execution_count": 98,
   "metadata": {},
   "outputs": [
    {
     "name": "stdout",
     "output_type": "stream",
     "text": [
      "6408\n",
      "6775\n"
     ]
    }
   ],
   "source": [
    "#homelessness dataframe creation\n",
    "file_to_load = \"Homelessness_Count_USA.csv\"\n",
    "homelessness_data = pd.read_csv(file_to_load)\n",
    "homelessness_df = pd.DataFrame(homelessness_data)\n",
    "\n",
    "#list of counties for looking through homeless data with\n",
    "counties = [\"Los Angeles City & County CoC\", \n",
    "            \"San Francisco CoC\", \n",
    "            \"Las Vegas/Clark County CoC\",\n",
    "            \"Metropolitan Denver Homeless Initiative\", \n",
    "            \"Kansas City/Independence/Lee's Summit/Jackson County CoC\", \n",
    "            \"Cook County CoC\", \n",
    "            \"Fulton County Continuum of Care\", \n",
    "            \"Miami/Dade County CoC\", \n",
    "            \"Philadelphia CoC\", \n",
    "            \"Phoenix/Mesa/Maricopa County Regional CoC\",\n",
    "            \"Boston CoC\", \n",
    "            \"Detroit CoC\", \n",
    "            \"Indianapolis CoC\", \n",
    "            \"Seattle/King County CoC\", \n",
    "            \"Dallas City & County/Irving CoC\", \n",
    "            \"Nashville/Davidson County CoC\", \n",
    "            \"Albuquerque CoC\", \n",
    "            \"Charlotte/Mecklenberg CoC\", \n",
    "            \"New York City CoC\", \n",
    "            \"Minneapolis/Hennepin County CoC\"]\n",
    "\n",
    "#preparing to drop indexes that are not total homeless\n",
    "index_names = homelessness_df[homelessness_df['Attribute Name'] != 'Total Homeless'].index\n",
    "\n",
    "#new df with just total homeless values\n",
    "clean_homeless_data = homelessness_df.drop(index_names)\n",
    "clean_homeless_data\n",
    "\n",
    "#drawing out only 2014 values\n",
    "remove_2015 = clean_homeless_data[clean_homeless_data['Year - Text'] != 2014].index\n",
    "homeless_2014 = clean_homeless_data.drop(remove_2015)\n",
    "county_clean_homeless_data_2014_df = homeless_2014.set_index('CoC Name')\n",
    "\n",
    "#drawing out only 2015 values\n",
    "remove_2014 = clean_homeless_data[clean_homeless_data['Year - Text'] != 2015].index\n",
    "homeless_2015 = clean_homeless_data.drop(remove_2014)\n",
    "county_clean_homeless_data_2015_df = homeless_2015.set_index('CoC Name')\n",
    "\n",
    "#print test to make sure the specific year will print\n",
    "print(county_clean_homeless_data_2014_df.loc['San Francisco CoC','Value'])\n",
    "print(county_clean_homeless_data_2015_df.loc['San Francisco CoC','Value'])"
   ]
  },
  {
   "cell_type": "code",
   "execution_count": 99,
   "metadata": {},
   "outputs": [
    {
     "name": "stdout",
     "output_type": "stream",
     "text": [
      "[34393, 6408, 7443, 6621, 1931, 1182, 477, 4156, 5738, 5918, 5987, 2755, 1890, 8949, 3514, 2234, 1254, 2014, 67810, 3731]\n",
      "[41174, 6775, 7509, 5335, 1446, 895, 473, 4152, 5998, 5631, 6492, 2597, 1666, 10122, 3141, 2154, 1287, 2001, 75323, 3215]\n"
     ]
    }
   ],
   "source": [
    "#want to take specific data and append it to list\n",
    "list_2014_total_homeless = []\n",
    "list_2015_total_homeless = []\n",
    "\n",
    "for county_name in counties:\n",
    "    homeless_value_2014 = county_clean_homeless_data_2014_df.loc[county_name, 'Value']\n",
    "    list_2014_total_homeless.append(homeless_value_2014)\n",
    "    homeless_value_2015 = homeless_value_2015 = county_clean_homeless_data_2015_df.loc[county_name, 'Value']\n",
    "    list_2015_total_homeless.append(homeless_value_2015)  \n",
    "    \n",
    "print(list_2014_total_homeless)\n",
    "print(list_2015_total_homeless)"
   ]
  },
  {
   "cell_type": "code",
   "execution_count": 100,
   "metadata": {},
   "outputs": [],
   "source": [
    "#created city list from courtney's list in case we want to merge information of weather and so we can merge on same 'on'\n",
    "matching_citylist = ['Los_Angeles_County', \n",
    "                     'San_Francisco_County', \n",
    "                     'Clark_County', \n",
    "                     'Denver_County', \n",
    "                     'Jackson_County', \n",
    "                     'Cook_County', \n",
    "                     'Fulton_County', \n",
    "                     'Miami_Dade_County', \n",
    "                     'Philadelphia_County', \n",
    "                     'Maricopa_County', \n",
    "                     'Suffolk_County', \n",
    "                     'Wayne_County', \n",
    "                     'Marion_County', \n",
    "                     'King_County', \n",
    "                     'Dallas_County',\n",
    "                     'Davidson_County', \n",
    "                     'Bernalillo_County', \n",
    "                     'Mecklenburg_County', \n",
    "                     'New_York_County', \n",
    "                     'Hennepin_County']\n",
    "\n",
    "#making database from each value and index value\n",
    "homelessness_2014_df = pd.DataFrame(list_2014_total_homeless, index = matching_citylist)\n",
    "homelessness_2015_df = pd.DataFrame(list_2015_total_homeless, index = matching_citylist)\n",
    "\n",
    "#giving name to indexes\n",
    "homelessness_2014_df.index.name = 'County'\n",
    "homelessness_2015_df.index.name = 'County'\n",
    "\n",
    "#rename columns\n",
    "homelessness_2014_df = homelessness_2014_df.rename(columns = {0 : 'Value_2014'})\n",
    "homelessness_2015_df = homelessness_2015_df.rename(columns = {0 : 'Value_2015'})"
   ]
  },
  {
   "cell_type": "code",
   "execution_count": 101,
   "metadata": {},
   "outputs": [],
   "source": [
    "homelessness_2014_df\n",
    "homelessness_2014_df.to_csv('Homeless_2014.csv', index = True, header = True)"
   ]
  },
  {
   "cell_type": "code",
   "execution_count": 102,
   "metadata": {},
   "outputs": [
    {
     "data": {
      "text/plain": [
       "<AxesSubplot:xlabel='County'>"
      ]
     },
     "execution_count": 102,
     "metadata": {},
     "output_type": "execute_result"
    },
    {
     "data": {
      "image/png": "[encoded data removed]",
      "text/plain": [
       "<Figure size 432x288 with 1 Axes>"
      ]
     },
     "metadata": {
      "needs_background": "light"
     },
     "output_type": "display_data"
    }
   ],
   "source": [
    "homeless_2014_bar_plot = homelessness_2014_df.plot(kind = 'bar', color = 'green')\n",
    "homeless_2014_bar_plot"
   ]
  },
  {
   "cell_type": "code",
   "execution_count": 104,
   "metadata": {},
   "outputs": [],
   "source": [
    "homelessness_2015_df\n",
    "homelessness_2015_df.to_csv('Homeless_2015.csv', index = True, header = True)"
   ]
  },
  {
   "cell_type": "code",
   "execution_count": 105,
   "metadata": {},
   "outputs": [
    {
     "data": {
      "text/plain": [
       "<AxesSubplot:xlabel='County'>"
      ]
     },
     "execution_count": 105,
     "metadata": {},
     "output_type": "execute_result"
    },
    {
     "data": {
      "image/png": "[encoded data removed]",
      "text/plain": [
       "<Figure size 432x288 with 1 Axes>"
      ]
     },
     "metadata": {
      "needs_background": "light"
     },
     "output_type": "display_data"
    }
   ],
   "source": [
    "homeless_2015_bar_plot = homelessness_2015_df.plot(kind = 'bar')\n",
    "homeless_2015_bar_plot"
   ]
  },
  {
   "cell_type": "code",
   "execution_count": 106,
   "metadata": {},
   "outputs": [
    {
     "data": {
      "text/html": [
       "<div>\n",
       "<style scoped>\n",
       "    .dataframe tbody tr th:only-of-type {\n",
       "        vertical-align: middle;\n",
       "    }\n",
       "\n",
       "    .dataframe tbody tr th {\n",
       "        vertical-align: top;\n",
       "    }\n",
       "\n",
       "    .dataframe thead th {\n",
       "        text-align: right;\n",
       "    }\n",
       "</style>\n",
       "<table border=\"1\" class=\"dataframe\">\n",
       "  <thead>\n",
       "    <tr style=\"text-align: right;\">\n",
       "      <th></th>\n",
       "      <th>Value_2014</th>\n",
       "      <th>Value_2015</th>\n",
       "    </tr>\n",
       "    <tr>\n",
       "      <th>County</th>\n",
       "      <th></th>\n",
       "      <th></th>\n",
       "    </tr>\n",
       "  </thead>\n",
       "  <tbody>\n",
       "    <tr>\n",
       "      <th>Los_Angeles_County</th>\n",
       "      <td>34393</td>\n",
       "      <td>41174</td>\n",
       "    </tr>\n",
       "    <tr>\n",
       "      <th>San_Francisco_County</th>\n",
       "      <td>6408</td>\n",
       "      <td>6775</td>\n",
       "    </tr>\n",
       "    <tr>\n",
       "      <th>Clark_County</th>\n",
       "      <td>7443</td>\n",
       "      <td>7509</td>\n",
       "    </tr>\n",
       "    <tr>\n",
       "      <th>Denver_County</th>\n",
       "      <td>6621</td>\n",
       "      <td>5335</td>\n",
       "    </tr>\n",
       "    <tr>\n",
       "      <th>Jackson_County</th>\n",
       "      <td>1931</td>\n",
       "      <td>1446</td>\n",
       "    </tr>\n",
       "    <tr>\n",
       "      <th>Cook_County</th>\n",
       "      <td>1182</td>\n",
       "      <td>895</td>\n",
       "    </tr>\n",
       "    <tr>\n",
       "      <th>Fulton_County</th>\n",
       "      <td>477</td>\n",
       "      <td>473</td>\n",
       "    </tr>\n",
       "    <tr>\n",
       "      <th>Miami_Dade_County</th>\n",
       "      <td>4156</td>\n",
       "      <td>4152</td>\n",
       "    </tr>\n",
       "    <tr>\n",
       "      <th>Philadelphia_County</th>\n",
       "      <td>5738</td>\n",
       "      <td>5998</td>\n",
       "    </tr>\n",
       "    <tr>\n",
       "      <th>Maricopa_County</th>\n",
       "      <td>5918</td>\n",
       "      <td>5631</td>\n",
       "    </tr>\n",
       "    <tr>\n",
       "      <th>Suffolk_County</th>\n",
       "      <td>5987</td>\n",
       "      <td>6492</td>\n",
       "    </tr>\n",
       "    <tr>\n",
       "      <th>Wayne_County</th>\n",
       "      <td>2755</td>\n",
       "      <td>2597</td>\n",
       "    </tr>\n",
       "    <tr>\n",
       "      <th>Marion_County</th>\n",
       "      <td>1890</td>\n",
       "      <td>1666</td>\n",
       "    </tr>\n",
       "    <tr>\n",
       "      <th>King_County</th>\n",
       "      <td>8949</td>\n",
       "      <td>10122</td>\n",
       "    </tr>\n",
       "    <tr>\n",
       "      <th>Dallas_County</th>\n",
       "      <td>3514</td>\n",
       "      <td>3141</td>\n",
       "    </tr>\n",
       "    <tr>\n",
       "      <th>Davidson_County</th>\n",
       "      <td>2234</td>\n",
       "      <td>2154</td>\n",
       "    </tr>\n",
       "    <tr>\n",
       "      <th>Bernalillo_County</th>\n",
       "      <td>1254</td>\n",
       "      <td>1287</td>\n",
       "    </tr>\n",
       "    <tr>\n",
       "      <th>Mecklenburg_County</th>\n",
       "      <td>2014</td>\n",
       "      <td>2001</td>\n",
       "    </tr>\n",
       "    <tr>\n",
       "      <th>New_York_County</th>\n",
       "      <td>67810</td>\n",
       "      <td>75323</td>\n",
       "    </tr>\n",
       "    <tr>\n",
       "      <th>Hennepin_County</th>\n",
       "      <td>3731</td>\n",
       "      <td>3215</td>\n",
       "    </tr>\n",
       "  </tbody>\n",
       "</table>\n",
       "</div>"
      ],
      "text/plain": [
       "                      Value_2014  Value_2015\n",
       "County                                      \n",
       "Los_Angeles_County         34393       41174\n",
       "San_Francisco_County        6408        6775\n",
       "Clark_County                7443        7509\n",
       "Denver_County               6621        5335\n",
       "Jackson_County              1931        1446\n",
       "Cook_County                 1182         895\n",
       "Fulton_County                477         473\n",
       "Miami_Dade_County           4156        4152\n",
       "Philadelphia_County         5738        5998\n",
       "Maricopa_County             5918        5631\n",
       "Suffolk_County              5987        6492\n",
       "Wayne_County                2755        2597\n",
       "Marion_County               1890        1666\n",
       "King_County                 8949       10122\n",
       "Dallas_County               3514        3141\n",
       "Davidson_County             2234        2154\n",
       "Bernalillo_County           1254        1287\n",
       "Mecklenburg_County          2014        2001\n",
       "New_York_County            67810       75323\n",
       "Hennepin_County             3731        3215"
      ]
     },
     "execution_count": 106,
     "metadata": {},
     "output_type": "execute_result"
    }
   ],
   "source": [
    "merged_homelessness = pd.merge(homelessness_2014_df, homelessness_2015_df, on = 'County')\n",
    "merged_homelessness"
   ]
  },
  {
   "cell_type": "code",
   "execution_count": 107,
   "metadata": {},
   "outputs": [
    {
     "data": {
      "image/png": "[encoded data removed]",
      "text/plain": [
       "<Figure size 432x288 with 1 Axes>"
      ]
     },
     "metadata": {
      "needs_background": "light"
     },
     "output_type": "display_data"
    }
   ],
   "source": [
    "homeless_bar_plot = merged_homelessness.plot(kind = 'bar')"
   ]
  },
  {
   "cell_type": "code",
   "execution_count": 110,
   "metadata": {},
   "outputs": [
    {
     "data": {
      "text/html": [
       "<div>\n",
       "<style scoped>\n",
       "    .dataframe tbody tr th:only-of-type {\n",
       "        vertical-align: middle;\n",
       "    }\n",
       "\n",
       "    .dataframe tbody tr th {\n",
       "        vertical-align: top;\n",
       "    }\n",
       "\n",
       "    .dataframe thead th {\n",
       "        text-align: right;\n",
       "    }\n",
       "</style>\n",
       "<table border=\"1\" class=\"dataframe\">\n",
       "  <thead>\n",
       "    <tr style=\"text-align: right;\">\n",
       "      <th></th>\n",
       "      <th>Value_2014</th>\n",
       "      <th>Value_2015</th>\n",
       "      <th>Difference</th>\n",
       "    </tr>\n",
       "    <tr>\n",
       "      <th>County</th>\n",
       "      <th></th>\n",
       "      <th></th>\n",
       "      <th></th>\n",
       "    </tr>\n",
       "  </thead>\n",
       "  <tbody>\n",
       "    <tr>\n",
       "      <th>Los_Angeles_County</th>\n",
       "      <td>34393</td>\n",
       "      <td>41174</td>\n",
       "      <td>6781</td>\n",
       "    </tr>\n",
       "    <tr>\n",
       "      <th>San_Francisco_County</th>\n",
       "      <td>6408</td>\n",
       "      <td>6775</td>\n",
       "      <td>367</td>\n",
       "    </tr>\n",
       "    <tr>\n",
       "      <th>Clark_County</th>\n",
       "      <td>7443</td>\n",
       "      <td>7509</td>\n",
       "      <td>66</td>\n",
       "    </tr>\n",
       "    <tr>\n",
       "      <th>Denver_County</th>\n",
       "      <td>6621</td>\n",
       "      <td>5335</td>\n",
       "      <td>-1286</td>\n",
       "    </tr>\n",
       "    <tr>\n",
       "      <th>Jackson_County</th>\n",
       "      <td>1931</td>\n",
       "      <td>1446</td>\n",
       "      <td>-485</td>\n",
       "    </tr>\n",
       "    <tr>\n",
       "      <th>Cook_County</th>\n",
       "      <td>1182</td>\n",
       "      <td>895</td>\n",
       "      <td>-287</td>\n",
       "    </tr>\n",
       "    <tr>\n",
       "      <th>Fulton_County</th>\n",
       "      <td>477</td>\n",
       "      <td>473</td>\n",
       "      <td>-4</td>\n",
       "    </tr>\n",
       "    <tr>\n",
       "      <th>Miami_Dade_County</th>\n",
       "      <td>4156</td>\n",
       "      <td>4152</td>\n",
       "      <td>-4</td>\n",
       "    </tr>\n",
       "    <tr>\n",
       "      <th>Philadelphia_County</th>\n",
       "      <td>5738</td>\n",
       "      <td>5998</td>\n",
       "      <td>260</td>\n",
       "    </tr>\n",
       "    <tr>\n",
       "      <th>Maricopa_County</th>\n",
       "      <td>5918</td>\n",
       "      <td>5631</td>\n",
       "      <td>-287</td>\n",
       "    </tr>\n",
       "    <tr>\n",
       "      <th>Suffolk_County</th>\n",
       "      <td>5987</td>\n",
       "      <td>6492</td>\n",
       "      <td>505</td>\n",
       "    </tr>\n",
       "    <tr>\n",
       "      <th>Wayne_County</th>\n",
       "      <td>2755</td>\n",
       "      <td>2597</td>\n",
       "      <td>-158</td>\n",
       "    </tr>\n",
       "    <tr>\n",
       "      <th>Marion_County</th>\n",
       "      <td>1890</td>\n",
       "      <td>1666</td>\n",
       "      <td>-224</td>\n",
       "    </tr>\n",
       "    <tr>\n",
       "      <th>King_County</th>\n",
       "      <td>8949</td>\n",
       "      <td>10122</td>\n",
       "      <td>1173</td>\n",
       "    </tr>\n",
       "    <tr>\n",
       "      <th>Dallas_County</th>\n",
       "      <td>3514</td>\n",
       "      <td>3141</td>\n",
       "      <td>-373</td>\n",
       "    </tr>\n",
       "    <tr>\n",
       "      <th>Davidson_County</th>\n",
       "      <td>2234</td>\n",
       "      <td>2154</td>\n",
       "      <td>-80</td>\n",
       "    </tr>\n",
       "    <tr>\n",
       "      <th>Bernalillo_County</th>\n",
       "      <td>1254</td>\n",
       "      <td>1287</td>\n",
       "      <td>33</td>\n",
       "    </tr>\n",
       "    <tr>\n",
       "      <th>Mecklenburg_County</th>\n",
       "      <td>2014</td>\n",
       "      <td>2001</td>\n",
       "      <td>-13</td>\n",
       "    </tr>\n",
       "    <tr>\n",
       "      <th>New_York_County</th>\n",
       "      <td>67810</td>\n",
       "      <td>75323</td>\n",
       "      <td>7513</td>\n",
       "    </tr>\n",
       "    <tr>\n",
       "      <th>Hennepin_County</th>\n",
       "      <td>3731</td>\n",
       "      <td>3215</td>\n",
       "      <td>-516</td>\n",
       "    </tr>\n",
       "  </tbody>\n",
       "</table>\n",
       "</div>"
      ],
      "text/plain": [
       "                      Value_2014  Value_2015  Difference\n",
       "County                                                  \n",
       "Los_Angeles_County         34393       41174        6781\n",
       "San_Francisco_County        6408        6775         367\n",
       "Clark_County                7443        7509          66\n",
       "Denver_County               6621        5335       -1286\n",
       "Jackson_County              1931        1446        -485\n",
       "Cook_County                 1182         895        -287\n",
       "Fulton_County                477         473          -4\n",
       "Miami_Dade_County           4156        4152          -4\n",
       "Philadelphia_County         5738        5998         260\n",
       "Maricopa_County             5918        5631        -287\n",
       "Suffolk_County              5987        6492         505\n",
       "Wayne_County                2755        2597        -158\n",
       "Marion_County               1890        1666        -224\n",
       "King_County                 8949       10122        1173\n",
       "Dallas_County               3514        3141        -373\n",
       "Davidson_County             2234        2154         -80\n",
       "Bernalillo_County           1254        1287          33\n",
       "Mecklenburg_County          2014        2001         -13\n",
       "New_York_County            67810       75323        7513\n",
       "Hennepin_County             3731        3215        -516"
      ]
     },
     "execution_count": 110,
     "metadata": {},
     "output_type": "execute_result"
    }
   ],
   "source": [
    "merged_homelessness['Difference'] = merged_homelessness['Value_2015'].sub(merged_homelessness['Value_2014'], axis = 0)\n",
    "merged_homelessness"
   ]
  },
  {
   "cell_type": "code",
   "execution_count": 118,
   "metadata": {},
   "outputs": [],
   "source": [
    "diff = merged_homelessness['Value_2015'] - merged_homelessness['Value_2014']\n",
    "diff = diff.sort_values(ascending = False)"
   ]
  },
  {
   "cell_type": "code",
   "execution_count": 120,
   "metadata": {},
   "outputs": [
    {
     "data": {
      "text/plain": [
       "<AxesSubplot:xlabel='County'>"
      ]
     },
     "execution_count": 120,
     "metadata": {},
     "output_type": "execute_result"
    },
    {
     "data": {
      "image/png": "[encoded data removed]",
      "text/plain": [
       "<Figure size 432x288 with 1 Axes>"
      ]
     },
     "metadata": {
      "needs_background": "light"
     },
     "output_type": "display_data"
    }
   ],
   "source": [
    "diff.plot(kind = 'bar')"
   ]
  },
  {
   "cell_type": "code",
   "execution_count": 128,
   "metadata": {},
   "outputs": [
    {
     "data": {
      "text/plain": [
       "County\n",
       "Los_Angeles_County      16.469131\n",
       "King_County             11.588619\n",
       "New_York_County          9.974377\n",
       "Suffolk_County           7.778805\n",
       "San_Francisco_County     5.416974\n",
       "Philadelphia_County      4.334778\n",
       "Bernalillo_County        2.564103\n",
       "Clark_County             0.878945\n",
       "Miami_Dade_County       -0.096339\n",
       "Mecklenburg_County      -0.649675\n",
       "Fulton_County           -0.845666\n",
       "Davidson_County         -3.714020\n",
       "Maricopa_County         -5.096786\n",
       "Wayne_County            -6.083943\n",
       "Dallas_County          -11.875199\n",
       "Marion_County          -13.445378\n",
       "Hennepin_County        -16.049767\n",
       "Denver_County          -24.104967\n",
       "Cook_County            -32.067039\n",
       "Jackson_County         -33.540802\n",
       "dtype: float64"
      ]
     },
     "execution_count": 128,
     "metadata": {},
     "output_type": "execute_result"
    }
   ],
   "source": [
    "#percent change\n",
    "percent_change = (diff/merged_homelessness['Value_2015']) *100\n",
    "percent_change = percent_change.sort_values(ascending = False)\n",
    "percent_change"
   ]
  },
  {
   "cell_type": "code",
   "execution_count": 127,
   "metadata": {},
   "outputs": [
    {
     "data": {
      "text/plain": [
       "<AxesSubplot:xlabel='County'>"
      ]
     },
     "execution_count": 127,
     "metadata": {},
     "output_type": "execute_result"
    },
    {
     "data": {
      "image/png": "[encoded data removed]",
      "text/plain": [
       "<Figure size 432x288 with 1 Axes>"
      ]
     },
     "metadata": {
      "needs_background": "light"
     },
     "output_type": "display_data"
    }
   ],
   "source": [
    "percent_change.plot(kind = 'bar')"
   ]
  },
  {
   "cell_type": "code",
   "execution_count": null,
   "metadata": {},
   "outputs": [],
   "source": []
  }
 ],
 "metadata": {
  "kernelspec": {
   "display_name": "Python 3",
   "language": "python",
   "name": "python3"
  },
  "language_info": {
   "codemirror_mode": {
    "name": "ipython",
    "version": 3
   },
   "file_extension": ".py",
   "mimetype": "text/x-python",
   "name": "python",
   "nbconvert_exporter": "python",
   "pygments_lexer": "ipython3",
   "version": "3.8.5"
  }
 },
 "nbformat": 4,
 "nbformat_minor": 4
}
